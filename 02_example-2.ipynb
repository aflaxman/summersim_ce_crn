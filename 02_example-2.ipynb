{
 "cells": [
  {
   "cell_type": "code",
   "execution_count": 1,
   "metadata": {
    "collapsed": true
   },
   "outputs": [],
   "source": [
    "import numpy as np, pandas as pd, matplotlib.pyplot as plt\n",
    "import pymc as pm\n",
    "%matplotlib inline"
   ]
  },
  {
   "cell_type": "markdown",
   "metadata": {},
   "source": [
    "# TODO: make ceam-public-health available enough to replicate model results\n",
    "\n",
    "Abie Flaxman [4:25 PM] \n",
    "@emumford : how do you launch your diarrhea model on the cluster?\n",
    "\n",
    "Everett Mumford [4:32 PM] \n",
    "simulate run ceam-public-health/configurations/rota_vaccine_intervention.json\n",
    "\n",
    "[4:33] \n",
    "simulate run ceam-public-health/configurations/ors.json\n",
    "\n",
    "[4:35] \n",
    "If you want to launch multiple scnarios and/or draws, you would run --> python ceam/scripts/rota_vaccine_cluster_runner.py -g (the -g is required if you are running multiple scenarios) for rota (edited)\n",
    "\n",
    "[4:35] \n",
    "and for ors --> python ceam/scripts/ors_cluster_runner.py -g\n",
    "\n",
    "Abie Flaxman [5:43 PM] \n",
    "if i do `python ceam/scripts/rota_vaccine_cluster_runner.py -g `, what will come out?\n",
    "\n",
    "new messages\n",
    "Everett Mumford [5:48 PM] \n",
    "The file on Stash looks like it is set up to run all 12 scenarios that we wanted to run before the BMGF meeting in Feb. for Kenya and Bangladesh. The default is to do all 1k draws for each scenario, but you can change this using the --runs arg\n",
    "\n",
    "[5:49] \n",
    "I think this code is going to need to be changed a bit given the config file work that Alec merged in earlier today, but as long as you haven't merged develop into your branch yet it should work\n",
    "\n",
    "Everett Mumford [5:55 PM] \n",
    "The results for each scenario should be sent to /share/scratch/users/{username}/results/{scenario parameters}/{timestamp of when the jobs were launched}/runs.hdf, though you can change the output directory using the --results_dir argument\n",
    "\n",
    "Abie Flaxman [7:15 PM] \n",
    "Thanks Everett"
   ]
  },
  {
   "cell_type": "code",
   "execution_count": 2,
   "metadata": {
    "collapsed": false
   },
   "outputs": [
    {
     "data": {
      "text/html": [
       "<div>\n",
       "<table border=\"1\" class=\"dataframe\">\n",
       "  <thead>\n",
       "    <tr style=\"text-align: right;\">\n",
       "      <th></th>\n",
       "      <th>age_at_first_dose</th>\n",
       "      <th>comparison</th>\n",
       "      <th>cost_to_administer_rotaviral_entiritis_vaccine</th>\n",
       "      <th>deaths</th>\n",
       "      <th>diarrhea_due_to_EPEC_event_count</th>\n",
       "      <th>diarrhea_due_to_ETEC_event_count</th>\n",
       "      <th>diarrhea_due_to_adenovirus_event_count</th>\n",
       "      <th>diarrhea_due_to_aeromonas_event_count</th>\n",
       "      <th>diarrhea_due_to_amoebiasis_event_count</th>\n",
       "      <th>diarrhea_due_to_campylobacter_event_count</th>\n",
       "      <th>...</th>\n",
       "      <th>rotaviral_entiritis_vaccine_unit_cost</th>\n",
       "      <th>run_intervention</th>\n",
       "      <th>simulation_run_time</th>\n",
       "      <th>total_population</th>\n",
       "      <th>total_population__dead</th>\n",
       "      <th>total_population__living</th>\n",
       "      <th>vaccination_proportion_increase</th>\n",
       "      <th>vaccine_duration</th>\n",
       "      <th>years_lived_with_disability</th>\n",
       "      <th>years_of_life_lost</th>\n",
       "    </tr>\n",
       "  </thead>\n",
       "  <tbody>\n",
       "    <tr>\n",
       "      <th>0</th>\n",
       "      <td>7</td>\n",
       "      <td>base</td>\n",
       "      <td>0.0</td>\n",
       "      <td>973</td>\n",
       "      <td>1837.0</td>\n",
       "      <td>5162.0</td>\n",
       "      <td>3268.0</td>\n",
       "      <td>10607.0</td>\n",
       "      <td>1016.0</td>\n",
       "      <td>7164.0</td>\n",
       "      <td>...</td>\n",
       "      <td>50953.0</td>\n",
       "      <td>True</td>\n",
       "      <td>3407.383937</td>\n",
       "      <td>10000</td>\n",
       "      <td>973</td>\n",
       "      <td>9027</td>\n",
       "      <td>0.5</td>\n",
       "      <td>1000</td>\n",
       "      <td>928.339509</td>\n",
       "      <td>83716.682292</td>\n",
       "    </tr>\n",
       "    <tr>\n",
       "      <th>0</th>\n",
       "      <td>7</td>\n",
       "      <td>base</td>\n",
       "      <td>0.0</td>\n",
       "      <td>923</td>\n",
       "      <td>2793.0</td>\n",
       "      <td>6181.0</td>\n",
       "      <td>3443.0</td>\n",
       "      <td>6663.0</td>\n",
       "      <td>240.0</td>\n",
       "      <td>7437.0</td>\n",
       "      <td>...</td>\n",
       "      <td>51194.5</td>\n",
       "      <td>True</td>\n",
       "      <td>3794.690914</td>\n",
       "      <td>10000</td>\n",
       "      <td>923</td>\n",
       "      <td>9077</td>\n",
       "      <td>0.5</td>\n",
       "      <td>1000</td>\n",
       "      <td>993.516558</td>\n",
       "      <td>79400.318812</td>\n",
       "    </tr>\n",
       "    <tr>\n",
       "      <th>0</th>\n",
       "      <td>7</td>\n",
       "      <td>base</td>\n",
       "      <td>0.0</td>\n",
       "      <td>993</td>\n",
       "      <td>2103.0</td>\n",
       "      <td>4542.0</td>\n",
       "      <td>5057.0</td>\n",
       "      <td>5051.0</td>\n",
       "      <td>960.0</td>\n",
       "      <td>3966.0</td>\n",
       "      <td>...</td>\n",
       "      <td>50697.5</td>\n",
       "      <td>True</td>\n",
       "      <td>4575.946919</td>\n",
       "      <td>10000</td>\n",
       "      <td>993</td>\n",
       "      <td>9007</td>\n",
       "      <td>0.5</td>\n",
       "      <td>1000</td>\n",
       "      <td>901.553985</td>\n",
       "      <td>85466.076431</td>\n",
       "    </tr>\n",
       "    <tr>\n",
       "      <th>0</th>\n",
       "      <td>7</td>\n",
       "      <td>base</td>\n",
       "      <td>0.0</td>\n",
       "      <td>1038</td>\n",
       "      <td>4261.0</td>\n",
       "      <td>5087.0</td>\n",
       "      <td>4261.0</td>\n",
       "      <td>15043.0</td>\n",
       "      <td>2141.0</td>\n",
       "      <td>3464.0</td>\n",
       "      <td>...</td>\n",
       "      <td>50806.0</td>\n",
       "      <td>True</td>\n",
       "      <td>3761.741159</td>\n",
       "      <td>10000</td>\n",
       "      <td>1038</td>\n",
       "      <td>8962</td>\n",
       "      <td>0.5</td>\n",
       "      <td>1000</td>\n",
       "      <td>1084.532730</td>\n",
       "      <td>89292.691085</td>\n",
       "    </tr>\n",
       "    <tr>\n",
       "      <th>0</th>\n",
       "      <td>7</td>\n",
       "      <td>base</td>\n",
       "      <td>0.0</td>\n",
       "      <td>922</td>\n",
       "      <td>2131.0</td>\n",
       "      <td>4894.0</td>\n",
       "      <td>4282.0</td>\n",
       "      <td>7398.0</td>\n",
       "      <td>454.0</td>\n",
       "      <td>2491.0</td>\n",
       "      <td>...</td>\n",
       "      <td>51250.5</td>\n",
       "      <td>True</td>\n",
       "      <td>4654.364322</td>\n",
       "      <td>10000</td>\n",
       "      <td>922</td>\n",
       "      <td>9078</td>\n",
       "      <td>0.5</td>\n",
       "      <td>1000</td>\n",
       "      <td>807.743677</td>\n",
       "      <td>79307.723380</td>\n",
       "    </tr>\n",
       "  </tbody>\n",
       "</table>\n",
       "<p>5 rows × 37 columns</p>\n",
       "</div>"
      ],
      "text/plain": [
       "  age_at_first_dose comparison  \\\n",
       "0                 7       base   \n",
       "0                 7       base   \n",
       "0                 7       base   \n",
       "0                 7       base   \n",
       "0                 7       base   \n",
       "\n",
       "   cost_to_administer_rotaviral_entiritis_vaccine  deaths  \\\n",
       "0                                             0.0     973   \n",
       "0                                             0.0     923   \n",
       "0                                             0.0     993   \n",
       "0                                             0.0    1038   \n",
       "0                                             0.0     922   \n",
       "\n",
       "   diarrhea_due_to_EPEC_event_count  diarrhea_due_to_ETEC_event_count  \\\n",
       "0                            1837.0                            5162.0   \n",
       "0                            2793.0                            6181.0   \n",
       "0                            2103.0                            4542.0   \n",
       "0                            4261.0                            5087.0   \n",
       "0                            2131.0                            4894.0   \n",
       "\n",
       "   diarrhea_due_to_adenovirus_event_count  \\\n",
       "0                                  3268.0   \n",
       "0                                  3443.0   \n",
       "0                                  5057.0   \n",
       "0                                  4261.0   \n",
       "0                                  4282.0   \n",
       "\n",
       "   diarrhea_due_to_aeromonas_event_count  \\\n",
       "0                                10607.0   \n",
       "0                                 6663.0   \n",
       "0                                 5051.0   \n",
       "0                                15043.0   \n",
       "0                                 7398.0   \n",
       "\n",
       "   diarrhea_due_to_amoebiasis_event_count  \\\n",
       "0                                  1016.0   \n",
       "0                                   240.0   \n",
       "0                                   960.0   \n",
       "0                                  2141.0   \n",
       "0                                   454.0   \n",
       "\n",
       "   diarrhea_due_to_campylobacter_event_count        ...          \\\n",
       "0                                     7164.0        ...           \n",
       "0                                     7437.0        ...           \n",
       "0                                     3966.0        ...           \n",
       "0                                     3464.0        ...           \n",
       "0                                     2491.0        ...           \n",
       "\n",
       "   rotaviral_entiritis_vaccine_unit_cost  run_intervention  \\\n",
       "0                                50953.0              True   \n",
       "0                                51194.5              True   \n",
       "0                                50697.5              True   \n",
       "0                                50806.0              True   \n",
       "0                                51250.5              True   \n",
       "\n",
       "   simulation_run_time  total_population  total_population__dead  \\\n",
       "0          3407.383937             10000                     973   \n",
       "0          3794.690914             10000                     923   \n",
       "0          4575.946919             10000                     993   \n",
       "0          3761.741159             10000                    1038   \n",
       "0          4654.364322             10000                     922   \n",
       "\n",
       "   total_population__living  vaccination_proportion_increase  \\\n",
       "0                      9027                              0.5   \n",
       "0                      9077                              0.5   \n",
       "0                      9007                              0.5   \n",
       "0                      8962                              0.5   \n",
       "0                      9078                              0.5   \n",
       "\n",
       "   vaccine_duration  years_lived_with_disability years_of_life_lost  \n",
       "0              1000                   928.339509       83716.682292  \n",
       "0              1000                   993.516558       79400.318812  \n",
       "0              1000                   901.553985       85466.076431  \n",
       "0              1000                  1084.532730       89292.691085  \n",
       "0              1000                   807.743677       79307.723380  \n",
       "\n",
       "[5 rows x 37 columns]"
      ]
     },
     "execution_count": 2,
     "metadata": {},
     "output_type": "execute_result"
    }
   ],
   "source": [
    "df = pd.read_hdf('/homes/alecwd/raw_grid_results.hdf')\n",
    "df.head()"
   ]
  },
  {
   "cell_type": "code",
   "execution_count": 3,
   "metadata": {
    "collapsed": true
   },
   "outputs": [],
   "source": [
    "# need to select the scenarios of interest\n",
    "location_id = 180\n",
    "\n",
    "# set baseline scenario for Kenya\n",
    "df.loc[(df.location == '{}'.format(location_id)) & (df.age_at_first_dose == '61') &\n",
    "       (df.vaccine_duration == '730') & (df.vaccination_proportion_increase == '0'), 'comparison'] = 'baseline'"
   ]
  },
  {
   "cell_type": "code",
   "execution_count": 4,
   "metadata": {
    "collapsed": true
   },
   "outputs": [],
   "source": [
    "# set % coverage scenario\n",
    "for coverage in [.25, .5 , .75]:\n",
    "    df.loc[(df.location == '{}'.format(location_id)) & (df.age_at_first_dose == '61') &\n",
    "           (df.vaccine_duration == '730') & (df.vaccination_proportion_increase == '{}'.format(coverage)), 'comparison'] = '{}% cov.'.format(int(float(coverage)*100))"
   ]
  },
  {
   "cell_type": "code",
   "execution_count": 5,
   "metadata": {
    "collapsed": false
   },
   "outputs": [
    {
     "data": {
      "text/plain": [
       "base        17477\n",
       "baseline      659\n",
       "50% cov.      628\n",
       "25% cov.      375\n",
       "75% cov.      244\n",
       "Name: comparison, dtype: int64"
      ]
     },
     "execution_count": 5,
     "metadata": {},
     "output_type": "execute_result"
    }
   ],
   "source": [
    "df.comparison.value_counts()"
   ]
  },
  {
   "cell_type": "code",
   "execution_count": 6,
   "metadata": {
    "collapsed": false
   },
   "outputs": [],
   "source": [
    "baseline = df.query('comparison == \"baseline\"').copy()\n",
    "baseline['DALYs'] = baseline.years_lived_with_disability + baseline.years_of_life_lost"
   ]
  },
  {
   "cell_type": "code",
   "execution_count": 7,
   "metadata": {
    "collapsed": true
   },
   "outputs": [],
   "source": [
    "intervention = df.query('comparison == \"50% cov.\"').copy()\n",
    "intervention['DALYs'] = intervention.years_lived_with_disability + intervention.years_of_life_lost"
   ]
  },
  {
   "cell_type": "code",
   "execution_count": 8,
   "metadata": {
    "collapsed": false
   },
   "outputs": [
    {
     "data": {
      "text/html": [
       "<div>\n",
       "<table border=\"1\" class=\"dataframe\">\n",
       "  <thead>\n",
       "    <tr style=\"text-align: right;\">\n",
       "      <th></th>\n",
       "      <th>DALYs_baseline</th>\n",
       "      <th>DALYs_intervention</th>\n",
       "    </tr>\n",
       "  </thead>\n",
       "  <tbody>\n",
       "    <tr>\n",
       "      <th>0</th>\n",
       "      <td>73485.125429</td>\n",
       "      <td>73205.599786</td>\n",
       "    </tr>\n",
       "    <tr>\n",
       "      <th>1</th>\n",
       "      <td>77456.666215</td>\n",
       "      <td>77260.018482</td>\n",
       "    </tr>\n",
       "    <tr>\n",
       "      <th>2</th>\n",
       "      <td>71830.059856</td>\n",
       "      <td>71285.085447</td>\n",
       "    </tr>\n",
       "    <tr>\n",
       "      <th>3</th>\n",
       "      <td>75837.502812</td>\n",
       "      <td>75643.298546</td>\n",
       "    </tr>\n",
       "    <tr>\n",
       "      <th>4</th>\n",
       "      <td>72417.504031</td>\n",
       "      <td>72308.580793</td>\n",
       "    </tr>\n",
       "  </tbody>\n",
       "</table>\n",
       "</div>"
      ],
      "text/plain": [
       "   DALYs_baseline  DALYs_intervention\n",
       "0    73485.125429        73205.599786\n",
       "1    77456.666215        77260.018482\n",
       "2    71830.059856        71285.085447\n",
       "3    75837.502812        75643.298546\n",
       "4    72417.504031        72308.580793"
      ]
     },
     "execution_count": 8,
     "metadata": {},
     "output_type": "execute_result"
    }
   ],
   "source": [
    "t = pd.merge(baseline, intervention, on='draw', suffixes=('_baseline', '_intervention'))\n",
    "t.filter(like='DALY').head()"
   ]
  },
  {
   "cell_type": "code",
   "execution_count": 9,
   "metadata": {
    "collapsed": false
   },
   "outputs": [
    {
     "data": {
      "text/plain": [
       "mean     385.874470\n",
       "2.5%      34.092294\n",
       "97.5%    808.516097\n",
       "dtype: float64"
      ]
     },
     "execution_count": 9,
     "metadata": {},
     "output_type": "execute_result"
    }
   ],
   "source": [
    "(t.DALYs_baseline - t.DALYs_intervention)\\\n",
    "    .describe(percentiles=[.025,.975]).loc[['mean', '2.5%', '97.5%']]"
   ]
  },
  {
   "cell_type": "code",
   "execution_count": 10,
   "metadata": {
    "collapsed": true
   },
   "outputs": [],
   "source": [
    "np.random.seed(12345)"
   ]
  },
  {
   "cell_type": "code",
   "execution_count": 11,
   "metadata": {
    "collapsed": false
   },
   "outputs": [],
   "source": [
    "permuted_vals = np.array(t.DALYs_intervention)\n",
    "np.random.shuffle(permuted_vals)"
   ]
  },
  {
   "cell_type": "code",
   "execution_count": 12,
   "metadata": {
    "collapsed": false
   },
   "outputs": [
    {
     "data": {
      "text/plain": [
       "mean      385.874470\n",
       "2.5%    -7455.514508\n",
       "97.5%    8523.486522\n",
       "Name: DALYs_baseline, dtype: float64"
      ]
     },
     "execution_count": 12,
     "metadata": {},
     "output_type": "execute_result"
    }
   ],
   "source": [
    "(t.DALYs_baseline - permuted_vals)\\\n",
    "    .describe(percentiles=[.025,.975]).loc[['mean', '2.5%', '97.5%']]"
   ]
  },
  {
   "cell_type": "code",
   "execution_count": 13,
   "metadata": {
    "collapsed": false
   },
   "outputs": [
    {
     "data": {
      "text/plain": [
       "20.63248150204672"
      ]
     },
     "execution_count": 13,
     "metadata": {},
     "output_type": "execute_result"
    }
   ],
   "source": [
    "(8523 - -7455) / (808.5-34.09)"
   ]
  }
 ],
 "metadata": {
  "anaconda-cloud": {},
  "kernelspec": {
   "display_name": "Python [conda env:ceam_env]",
   "language": "python",
   "name": "conda-env-ceam_env-py"
  },
  "language_info": {
   "codemirror_mode": {
    "name": "ipython",
    "version": 3
   },
   "file_extension": ".py",
   "mimetype": "text/x-python",
   "name": "python",
   "nbconvert_exporter": "python",
   "pygments_lexer": "ipython3",
   "version": "3.5.2"
  }
 },
 "nbformat": 4,
 "nbformat_minor": 1
}
