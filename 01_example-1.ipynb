{
 "cells": [
  {
   "cell_type": "code",
   "execution_count": 1,
   "metadata": {
    "collapsed": true
   },
   "outputs": [],
   "source": [
    "import numpy as np, pandas as pd, matplotlib.pyplot as plt\n",
    "import pymc as pm\n",
    "%matplotlib inline"
   ]
  },
  {
   "cell_type": "markdown",
   "metadata": {},
   "source": [
    "Notebook of non-simulation calcs for CRN paper:"
   ]
  },
  {
   "cell_type": "code",
   "execution_count": 2,
   "metadata": {
    "collapsed": true
   },
   "outputs": [],
   "source": [
    "n_draws = 1000 * 1000\n",
    "n_simulants = 1000   ### 1000*1000\n",
    "n_days = 365"
   ]
  },
  {
   "cell_type": "code",
   "execution_count": 3,
   "metadata": {
    "collapsed": true
   },
   "outputs": [],
   "source": [
    "incidence = 1.72  # per person-year\n",
    "mu_incidence = incidence\n",
    "sigma_incidence = .12\n",
    "\n",
    "special_frac = .056  # ETEC fraction\n",
    "sigma_special_frac = .018  # ETEC\n",
    "\n",
    "# special_frac = .25  # Rota fraction\n",
    "# sigma_special_frac = .076518 # Rota\n",
    "\n",
    "mu_special_frac = special_frac\n"
   ]
  },
  {
   "cell_type": "markdown",
   "metadata": {},
   "source": [
    "Direct calculation of expected cases averted:"
   ]
  },
  {
   "cell_type": "code",
   "execution_count": 4,
   "metadata": {
    "collapsed": false
   },
   "outputs": [
    {
     "name": "stdout",
     "output_type": "stream",
     "text": [
      "E[cases_averted]: 96.093410308\n"
     ]
    }
   ],
   "source": [
    "def cases_averted(val_dict):\n",
    "    incidence, special_frac = val_dict['incidence'], val_dict['special_frac']\n",
    "    pr_diarrhea_actual = 1 - np.exp(-incidence/365.)\n",
    "    pr_diarrhea_counterfactual = (1-special_frac)*pr_diarrhea_actual\n",
    "\n",
    "    all_cases = pr_diarrhea_actual * n_simulants * n_days\n",
    "    special_cases = all_cases * special_frac\n",
    "\n",
    "    cases_averted = special_cases\n",
    "    return cases_averted\n",
    "\n",
    "print('E[cases_averted]:', cases_averted({'incidence':incidence,\n",
    "                                          'special_frac':special_frac}))"
   ]
  },
  {
   "cell_type": "markdown",
   "metadata": {},
   "source": [
    "Monte Carlo calculation of 95% UI of expected cases averted (Parameter Uncertainty):"
   ]
  },
  {
   "cell_type": "code",
   "execution_count": 5,
   "metadata": {
    "collapsed": false
   },
   "outputs": [
    {
     "data": {
      "text/plain": [
       "mean      96.133561\n",
       "2.5%      35.077931\n",
       "97.5%    159.615687\n",
       "dtype: float64"
      ]
     },
     "execution_count": 5,
     "metadata": {},
     "output_type": "execute_result"
    }
   ],
   "source": [
    "def my_truncated_normal(mu, sigma, lower=0, upper=np.inf):\n",
    "    vals = np.random.normal(mu, sigma, size=n_draws)\n",
    "    vals = np.clip(vals, lower, upper)\n",
    "    return vals    \n",
    "\n",
    "def parameter_distribution(seed=12345):\n",
    "    np.random.seed(seed) # set seed for reproducibility\n",
    "    df = pd.DataFrame(index=range(n_draws))\n",
    "    df['incidence'] = my_truncated_normal(mu_incidence, sigma_incidence)\n",
    "    df['special_frac'] = my_truncated_normal(mu_special_frac, sigma_special_frac)\n",
    "\n",
    "    return df\n",
    "df = parameter_distribution()\n",
    "\n",
    "t = df.apply(cases_averted, axis=1)\n",
    "t.describe(percentiles=[.025,.975]).loc[['mean', '2.5%', '97.5%']]"
   ]
  },
  {
   "cell_type": "markdown",
   "metadata": {},
   "source": [
    "Monte Carlo calculation of variance of difference between actual and counterfactual cases (without CRN):"
   ]
  },
  {
   "cell_type": "code",
   "execution_count": 6,
   "metadata": {
    "collapsed": false
   },
   "outputs": [
    {
     "name": "stdout",
     "output_type": "stream",
     "text": [
      "predicted cases_averted without crn: 184\n"
     ]
    }
   ],
   "source": [
    "def cases_averted_predicted_no_crn(val_dict):\n",
    "    incidence, special_frac = val_dict['incidence'], val_dict['special_frac']\n",
    "    pr_diarrhea_actual = 1 - np.exp(-incidence/365.)\n",
    "    pr_diarrhea_counterfactual = (1-special_frac)*pr_diarrhea_actual\n",
    "\n",
    "    actual_cases         = np.random.binomial(n_simulants * n_days,\n",
    "                                   pr_diarrhea_actual)\n",
    "    counterfactual_cases = np.random.binomial(n_simulants * n_days,\n",
    "                                   pr_diarrhea_counterfactual)\n",
    "    cases_averted = actual_cases - counterfactual_cases\n",
    "    return cases_averted\n",
    "\n",
    "print('predicted cases_averted without crn:',\n",
    "      cases_averted_predicted_no_crn({'incidence':incidence,\n",
    "                     'special_frac':special_frac}))"
   ]
  },
  {
   "cell_type": "markdown",
   "metadata": {},
   "source": [
    "Only Simulation Uncertainty:"
   ]
  },
  {
   "cell_type": "code",
   "execution_count": 7,
   "metadata": {
    "collapsed": false
   },
   "outputs": [
    {
     "data": {
      "text/plain": [
       "mean      96.071417\n",
       "2.5%     -17.000000\n",
       "97.5%    209.000000\n",
       "dtype: float64"
      ]
     },
     "execution_count": 7,
     "metadata": {},
     "output_type": "execute_result"
    }
   ],
   "source": [
    "df = pd.DataFrame(index=range(n_draws))\n",
    "df['incidence'] = incidence\n",
    "df['special_frac'] = special_frac\n",
    "\n",
    "t = df.apply(cases_averted_predicted_no_crn, axis=1)\n",
    "t.describe(percentiles=[.025,.975]).loc[['mean', '2.5%', '97.5%']]"
   ]
  },
  {
   "cell_type": "markdown",
   "metadata": {},
   "source": [
    "Both Simulation and Parameter Uncertainty:"
   ]
  },
  {
   "cell_type": "code",
   "execution_count": 8,
   "metadata": {
    "collapsed": false
   },
   "outputs": [
    {
     "data": {
      "text/plain": [
       "mean      96.113645\n",
       "2.5%     -32.000000\n",
       "97.5%    225.000000\n",
       "dtype: float64"
      ]
     },
     "execution_count": 8,
     "metadata": {},
     "output_type": "execute_result"
    }
   ],
   "source": [
    "df = parameter_distribution()\n",
    "\n",
    "t = df.apply(cases_averted_predicted_no_crn, axis=1)\n",
    "t.describe(percentiles=[.025,.975]).loc[['mean', '2.5%', '97.5%']]"
   ]
  },
  {
   "cell_type": "markdown",
   "metadata": {},
   "source": [
    "Monte Carlo calculation of uncertainty with CRN:"
   ]
  },
  {
   "cell_type": "code",
   "execution_count": 9,
   "metadata": {
    "collapsed": false
   },
   "outputs": [],
   "source": [
    "def cases_averted_predicted_crn(val_dict):\n",
    "    incidence, special_frac = val_dict['incidence'], val_dict['special_frac']\n",
    "    pr_diarrhea_actual = 1 - np.exp(-incidence/365.)\n",
    "\n",
    "    actual_cases         = np.random.binomial(n_simulants * n_days,\n",
    "                                   pr_diarrhea_actual)\n",
    "    counterfactual_cases = np.random.binomial(actual_cases,\n",
    "                                   1 - special_frac)\n",
    "    cases_averted = actual_cases - counterfactual_cases\n",
    "    return cases_averted\n",
    "\n",
    "# not worth looking at a single value, want to know about distribution\n",
    "# print('predicted cases_averted with crn:',\n",
    "#       cases_averted_predicted_crn({'incidence':mu_incidence,\n",
    "#                      'special_frac':mu_special_frac}))"
   ]
  },
  {
   "cell_type": "markdown",
   "metadata": {},
   "source": [
    "Only simulation uncertainty (with CRN):"
   ]
  },
  {
   "cell_type": "code",
   "execution_count": 10,
   "metadata": {
    "collapsed": false
   },
   "outputs": [
    {
     "data": {
      "text/plain": [
       "mean      96.089715\n",
       "2.5%      77.000000\n",
       "97.5%    116.000000\n",
       "dtype: float64"
      ]
     },
     "execution_count": 10,
     "metadata": {},
     "output_type": "execute_result"
    }
   ],
   "source": [
    "df = pd.DataFrame(index=range(n_draws))\n",
    "df['incidence'] = incidence\n",
    "df['special_frac'] = special_frac\n",
    "\n",
    "t = df.apply(cases_averted_predicted_crn, axis=1)\n",
    "t.describe(percentiles=[.025,.975]).loc[['mean', '2.5%', '97.5%']]"
   ]
  },
  {
   "cell_type": "code",
   "execution_count": 11,
   "metadata": {
    "collapsed": false
   },
   "outputs": [
    {
     "data": {
      "text/plain": [
       "83.04347826086956"
      ]
     },
     "execution_count": 11,
     "metadata": {},
     "output_type": "execute_result"
    }
   ],
   "source": [
    "# percent reduction in uncertainty interval width:\n",
    "(1 - (116 - 77) / 230.) * 100."
   ]
  },
  {
   "cell_type": "markdown",
   "metadata": {},
   "source": [
    "Both simulation and parameter uncertainty (with CRN):"
   ]
  },
  {
   "cell_type": "code",
   "execution_count": 12,
   "metadata": {
    "collapsed": false
   },
   "outputs": [
    {
     "data": {
      "text/plain": [
       "mean      96.12569\n",
       "2.5%      34.00000\n",
       "97.5%    164.00000\n",
       "dtype: float64"
      ]
     },
     "execution_count": 12,
     "metadata": {},
     "output_type": "execute_result"
    }
   ],
   "source": [
    "df = parameter_distribution()\n",
    "\n",
    "t = df.apply(cases_averted_predicted_crn, axis=1)\n",
    "t.describe(percentiles=[.025,.975]).loc[['mean', '2.5%', '97.5%']]"
   ]
  }
 ],
 "metadata": {
  "anaconda-cloud": {},
  "kernelspec": {
   "display_name": "Python [conda env:ceam_env]",
   "language": "python",
   "name": "conda-env-ceam_env-py"
  },
  "language_info": {
   "codemirror_mode": {
    "name": "ipython",
    "version": 3
   },
   "file_extension": ".py",
   "mimetype": "text/x-python",
   "name": "python",
   "nbconvert_exporter": "python",
   "pygments_lexer": "ipython3",
   "version": "3.5.2"
  }
 },
 "nbformat": 4,
 "nbformat_minor": 0
}
