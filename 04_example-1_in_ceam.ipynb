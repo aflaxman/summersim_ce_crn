{
 "cells": [
  {
   "cell_type": "code",
   "execution_count": 1,
   "metadata": {
    "collapsed": true
   },
   "outputs": [],
   "source": [
    "import numpy as np, pandas as pd, matplotlib.pyplot as plt\n",
    "%matplotlib inline"
   ]
  },
  {
   "cell_type": "markdown",
   "metadata": {},
   "source": [
    "Notebook of things to do for a SummerSim Paper on common random values"
   ]
  },
  {
   "cell_type": "code",
   "execution_count": 2,
   "metadata": {
    "collapsed": true
   },
   "outputs": [],
   "source": [
    "n_draws = 1000\n",
    "n_simulants = 1000\n",
    "n_days = 365\n",
    "t_timestep = 1 # days\n",
    "t_start = pd.Timestamp('2010-01-01')"
   ]
  },
  {
   "cell_type": "markdown",
   "metadata": {},
   "source": [
    "Simple model (pencil-and-paper calculable):"
   ]
  },
  {
   "cell_type": "code",
   "execution_count": 3,
   "metadata": {
    "collapsed": true
   },
   "outputs": [],
   "source": [
    "incidence = 1.72  # per person-year\n",
    "special_frac = .056"
   ]
  },
  {
   "cell_type": "code",
   "execution_count": 4,
   "metadata": {
    "collapsed": false
   },
   "outputs": [
    {
     "name": "stdout",
     "output_type": "stream",
     "text": [
      "cases_averted: 96.32000000000001\n"
     ]
    }
   ],
   "source": [
    "all_cases = incidence * (n_simulants * n_days / 365)\n",
    "special_cases = all_cases * special_frac\n",
    "\n",
    "cases_averted = special_cases\n",
    "print('cases_averted:', cases_averted)"
   ]
  },
  {
   "cell_type": "markdown",
   "metadata": {},
   "source": [
    "Repeat to include distribution:"
   ]
  },
  {
   "cell_type": "code",
   "execution_count": 5,
   "metadata": {
    "collapsed": true
   },
   "outputs": [],
   "source": [
    "np.random.seed(12345) # set seed for reproducibility"
   ]
  },
  {
   "cell_type": "code",
   "execution_count": 6,
   "metadata": {
    "collapsed": true
   },
   "outputs": [],
   "source": [
    "mu_incidence = incidence\n",
    "sigma_incidence = .12\n",
    "\n",
    "mu_special_frac = special_frac\n",
    "sigma_special_frac = .018"
   ]
  },
  {
   "cell_type": "code",
   "execution_count": 7,
   "metadata": {
    "collapsed": true
   },
   "outputs": [],
   "source": [
    "def my_truncated_normal(mu, sigma, lower=0, upper=np.inf):\n",
    "    vals = np.random.normal(mu, sigma, size=n_draws)\n",
    "    vals = np.clip(vals, lower, upper)\n",
    "    return vals    "
   ]
  },
  {
   "cell_type": "code",
   "execution_count": 8,
   "metadata": {
    "collapsed": false
   },
   "outputs": [],
   "source": [
    "df = pd.DataFrame(index=range(n_draws))\n",
    "df['incidence'] = my_truncated_normal(mu_incidence, sigma_incidence)\n",
    "df['special_frac'] = my_truncated_normal(mu_special_frac, sigma_special_frac)"
   ]
  },
  {
   "cell_type": "code",
   "execution_count": 9,
   "metadata": {
    "collapsed": true
   },
   "outputs": [],
   "source": [
    "import pymc as pm"
   ]
  },
  {
   "cell_type": "code",
   "execution_count": 10,
   "metadata": {
    "collapsed": false
   },
   "outputs": [
    {
     "name": "stdout",
     "output_type": "stream",
     "text": [
      "cases_averted: 96.9280773547 [  34.53660641  161.30704137]\n"
     ]
    }
   ],
   "source": [
    "df['all_cases'] = df.incidence * (n_simulants * n_days / 365)\n",
    "df['special_cases'] = df.all_cases * df.special_frac\n",
    "\n",
    "df['cases_averted'] = df['special_cases']\n",
    "print('cases_averted:', df.cases_averted.mean(), pm.utils.hpd(df.cases_averted, .05))"
   ]
  },
  {
   "cell_type": "code",
   "execution_count": 11,
   "metadata": {
    "collapsed": false
   },
   "outputs": [
    {
     "name": "stdout",
     "output_type": "stream",
     "text": [
      "UI width\n"
     ]
    },
    {
     "data": {
      "text/plain": [
       "126.77043496029238"
      ]
     },
     "execution_count": 11,
     "metadata": {},
     "output_type": "execute_result"
    }
   ],
   "source": [
    "lb, ub = pm.utils.hpd(df.cases_averted, .05)\n",
    "print('UI width')\n",
    "ub - lb"
   ]
  },
  {
   "cell_type": "markdown",
   "metadata": {},
   "source": [
    "Now do a simulation version, using CEAM just because:"
   ]
  },
  {
   "cell_type": "code",
   "execution_count": 12,
   "metadata": {
    "collapsed": false
   },
   "outputs": [
    {
     "data": {
      "text/plain": [
       "0.0"
      ]
     },
     "execution_count": 12,
     "metadata": {},
     "output_type": "execute_result"
    }
   ],
   "source": [
    "import ceam_public_health.components as cphc,\\\n",
    "    ceam_public_health.components.base_population\n",
    "import ceam_tests.util as ctu\n",
    "\n",
    "from ceam.framework.event import listens_for\n",
    "from ceam.framework.population import uses_columns\n",
    "\n",
    "@listens_for('initialize_simulants')\n",
    "@uses_columns(['age', 'sex', 'cases'])\n",
    "def my_generate_base_population(event):\n",
    "    population = pd.DataFrame(index=event.index)\n",
    "    population['age'] = 0\n",
    "    population['sex'] = '-'\n",
    "    population['cases'] = 0.\n",
    "\n",
    "    event.population_view.update(population)\n",
    "\n",
    "components = [my_generate_base_population]\n",
    "simulation = ctu.setup_simulation(components, population_size=n_simulants, start=t_start)\n",
    "ctu.pump_simulation(simulation, duration=pd.Timedelta(n_days))\n",
    "\n",
    "simulation.population.population.cases.sum()"
   ]
  },
  {
   "cell_type": "code",
   "execution_count": 13,
   "metadata": {
    "collapsed": false
   },
   "outputs": [
    {
     "name": "stdout",
     "output_type": "stream",
     "text": [
      "cases_averted: 158.0\n"
     ]
    }
   ],
   "source": [
    "class MyDiarrhea:\n",
    "    def __init__(self, incidence, special_frac, eliminated, crn):\n",
    "        self.incidence = incidence\n",
    "        self.special_frac = special_frac\n",
    "        self.eliminated = eliminated\n",
    "        self.crn = crn\n",
    "    \n",
    "    def setup(self, builder):\n",
    "        if self.crn:\n",
    "            self.rand1 = builder.randomness('any_diarrhea')\n",
    "            self.rand2 = builder.randomness('special')\n",
    "\n",
    "    @listens_for('time_step')\n",
    "    @uses_columns(['cases'])\n",
    "    def experience_disease(self, event):\n",
    "        n = len(event.index)\n",
    "        \n",
    "        # FIXME: get timestep from sim, don't hardcode\n",
    "        case_pr = 1. - np.exp(-self.incidence/365.)\n",
    "        \n",
    "        if not self.crn:\n",
    "            case_indicator = np.random.uniform(size=n) < case_pr\n",
    "            case_index = event.index[case_indicator]\n",
    "        else:\n",
    "            case_index = self.rand1.filter_for_probability(event.index, case_pr)\n",
    "        \n",
    "        if self.eliminated:\n",
    "            not_special_pr = 1-self.special_frac\n",
    "            if not self.crn:\n",
    "                not_special_indicator = np.random.uniform(size=case_index.shape) < not_special_pr\n",
    "                case_index = case_index[not_special_indicator]\n",
    "            else:\n",
    "                case_index = self.rand2.filter_for_probability(case_index, not_special_pr)\n",
    "        \n",
    "        \n",
    "        event.population.cases[case_index] += 1\n",
    "\n",
    "        event.population_view.update(event.population)\n",
    "\n",
    "cases = {}\n",
    "for eliminated in [False, True]:\n",
    "    for crn in [True, False]:\n",
    "        components = [my_generate_base_population, \n",
    "                      MyDiarrhea(incidence, special_frac, eliminated, crn)]\n",
    "        simulation = ctu.setup_simulation(components, population_size=n_simulants, start=t_start)\n",
    "        ctu.pump_simulation(simulation, iterations=n_days, )\n",
    "\n",
    "        cases[eliminated] = simulation.population.population.cases.sum()\n",
    "print('cases_averted:', cases[False] - cases[True])"
   ]
  },
  {
   "cell_type": "code",
   "execution_count": 14,
   "metadata": {
    "collapsed": false
   },
   "outputs": [
    {
     "name": "stdout",
     "output_type": "stream",
     "text": [
      "CPU times: user 1h 9min 2s, sys: 1.12 s, total: 1h 9min 3s\n",
      "Wall time: 1h 9min 5s\n"
     ]
    }
   ],
   "source": [
    "%%time\n",
    "\n",
    "def replicate_sims(crn):\n",
    "    cases = {True: [], False: []}\n",
    "    for eliminated in [False, True]:\n",
    "        for i in range(n_draws):\n",
    "            incidence, special_frac = df.incidence[i], df.special_frac[i]\n",
    "            components = [my_generate_base_population,\n",
    "                          MyDiarrhea(incidence, special_frac, eliminated, crn)]\n",
    "            simulation = ctu.setup_simulation(components, population_size=n_simulants, start=t_start)\n",
    "            ctu.pump_simulation(simulation, iterations=n_days, )\n",
    "\n",
    "            cases[eliminated].append(simulation.population.population.cases.sum())\n",
    "    t = pd.DataFrame(cases)\n",
    "    t['cases_averted'] = t[False] - t[True]\n",
    "    return t\n",
    "\n",
    "t = replicate_sims(crn=False)"
   ]
  },
  {
   "cell_type": "code",
   "execution_count": 15,
   "metadata": {
    "collapsed": false
   },
   "outputs": [
    {
     "name": "stdout",
     "output_type": "stream",
     "text": [
      "Without CRN\n",
      "cases_averted: 98.859 [ -23.  234.]\n"
     ]
    }
   ],
   "source": [
    "print('Without CRN')\n",
    "print('cases_averted:', t.cases_averted.mean(), pm.utils.hpd(t.cases_averted, .05))"
   ]
  },
  {
   "cell_type": "code",
   "execution_count": 16,
   "metadata": {
    "collapsed": false
   },
   "outputs": [
    {
     "name": "stdout",
     "output_type": "stream",
     "text": [
      "UI width\n"
     ]
    },
    {
     "data": {
      "text/plain": [
       "257.0"
      ]
     },
     "execution_count": 16,
     "metadata": {},
     "output_type": "execute_result"
    }
   ],
   "source": [
    "lb, ub = pm.utils.hpd(t.cases_averted, .05)\n",
    "print('UI width')\n",
    "ub - lb"
   ]
  },
  {
   "cell_type": "code",
   "execution_count": 17,
   "metadata": {
    "collapsed": false
   },
   "outputs": [
    {
     "name": "stdout",
     "output_type": "stream",
     "text": [
      "With CRN\n",
      "cases_averted: 98.918 [  28.  161.]\n",
      "UI width 133.0\n",
      "CPU times: user 1h 15min 2s, sys: 1.14 s, total: 1h 15min 3s\n",
      "Wall time: 1h 15min 5s\n"
     ]
    }
   ],
   "source": [
    "%%time\n",
    "\n",
    "# now again, with common random values\n",
    "t = replicate_sims(crn=True)\n",
    "print('With CRN')\n",
    "print('cases_averted:', t.cases_averted.mean(), pm.utils.hpd(t.cases_averted, .05))\n",
    "lb, ub = pm.utils.hpd(t.cases_averted, .05)\n",
    "print('UI width', ub - lb)"
   ]
  }
 ],
 "metadata": {
  "anaconda-cloud": {},
  "kernelspec": {
   "display_name": "Python [conda env:ceam_env]",
   "language": "python",
   "name": "conda-env-ceam_env-py"
  },
  "language_info": {
   "codemirror_mode": {
    "name": "ipython",
    "version": 3
   },
   "file_extension": ".py",
   "mimetype": "text/x-python",
   "name": "python",
   "nbconvert_exporter": "python",
   "pygments_lexer": "ipython3",
   "version": "3.5.2"
  }
 },
 "nbformat": 4,
 "nbformat_minor": 0
}
